{
  "nbformat": 4,
  "nbformat_minor": 0,
  "metadata": {
    "colab": {
      "name": "MATHDNN_1_5.ipynb",
      "provenance": [],
      "collapsed_sections": []
    },
    "kernelspec": {
      "name": "python3",
      "display_name": "Python 3"
    },
    "language_info": {
      "name": "python"
    }
  },
  "cells": [
    {
      "cell_type": "code",
      "metadata": {
        "id": "_lda-fXfEjil"
      },
      "source": [
        "import numpy as np"
      ],
      "execution_count": null,
      "outputs": []
    },
    {
      "cell_type": "code",
      "metadata": {
        "id": "qUBeVJDjsl5L"
      },
      "source": [
        "from IPython.display import set_matplotlib_formats\n",
        "set_matplotlib_formats('pdf', 'svg')"
      ],
      "execution_count": null,
      "outputs": []
    },
    {
      "cell_type": "code",
      "metadata": {
        "id": "BBDzhJL_Ebr0"
      },
      "source": [
        "class Convolution1d :\n",
        "    def __init__(self, filt) :\n",
        "        self.__filt = filt\n",
        "        self.__r = filt.size\n",
        "        self.T = TransposedConvolution1d(self.__filt)\n",
        "\n",
        "    def __matmul__(self, vector) :\n",
        "        r, n = self.__r, vector.size\n",
        "        \n",
        "        return np.asarray([sum([self.__filt[k]*vector[k+i] for k in range(r)]) for i in range(n-r+1)])  # IMPLEMENT THIS"
      ],
      "execution_count": null,
      "outputs": []
    },
    {
      "cell_type": "code",
      "metadata": {
        "id": "XqK9Eg9oEoO0"
      },
      "source": [
        "class TransposedConvolution1d :\n",
        "    \n",
        "    # Transpose of 1-dimensional convolution operator used for the transpose-convolution operation A.T@(...)\n",
        "  \n",
        "  def __init__(self, filt) :\n",
        "    self.__filt = filt\n",
        "    self.__r = filt.size\n",
        "    \n",
        "    # Goal : Implementing matrix multiplication\n",
        "\n",
        "  def __matmul__(self, vector) :\n",
        "    r = self.__r\n",
        "    n = vector.size + r - 1\n",
        "\n",
        "    return np.asarray([sum([self.__filt[k]*vector[i-k] for k in range(0,i+1) if k<=r-1 and i-k>=0 and i-k<=n-r]) for i in range(n)])  # IMPLEMENT THIS"
      ],
      "execution_count": null,
      "outputs": []
    },
    {
      "cell_type": "code",
      "metadata": {
        "id": "Nsx_GvmuEqEl"
      },
      "source": [
        "def huber_loss(x) :\n",
        "    return np.sum( (1/2)*(x**2)*(np.abs(x)<=1) + (np.sign(x)*x-1/2)*(np.abs(x)>1) )\n",
        "    \n",
        "def huber_grad(x) :\n",
        "    return x*(np.abs(x)<=1) + np.sign(x)*(np.abs(x)>1)"
      ],
      "execution_count": null,
      "outputs": []
    },
    {
      "cell_type": "code",
      "metadata": {
        "colab": {
          "base_uri": "https://localhost:8080/"
        },
        "id": "fYbFo7M9EsKI",
        "outputId": "aed371bc-4cb5-4dba-9f7d-cb6b653bc033"
      },
      "source": [
        "r, n, lam = 3, 20, 0.1\n",
        "\n",
        "np.random.seed(0)\n",
        "k = np.random.randn(r) # randn(r) : normalized seeds of r elements\n",
        "b = np.random.randn(n-r+1)\n",
        "A = Convolution1d(k)\n",
        "#from scipy.linalg import circulant\n",
        "#A = circulant(np.concatenate((np.flip(k),np.zeros(n-r))))[2:,:]\n",
        "\n",
        "\n",
        "x = np.zeros(n)\n",
        "alpha = 0.01\n",
        "for _ in range(100) :\n",
        "    x = x - alpha*(A.T@(huber_grad(A@x-b))+lam*x)\n",
        "\n",
        "print(huber_loss(A@x-b)+0.5*lam*np.linalg.norm(x)**2)\n"
      ],
      "execution_count": null,
      "outputs": [
        {
          "output_type": "stream",
          "name": "stdout",
          "text": [
            "0.4587586843129764\n"
          ]
        }
      ]
    },
    {
      "cell_type": "code",
      "metadata": {
        "colab": {
          "base_uri": "https://localhost:8080/"
        },
        "id": "uWK6bFmtsovb",
        "outputId": "514b4df8-3a71-4937-cd16-853dd59dd3c8"
      },
      "source": [
        "from google.colab import drive\n",
        "drive.mount('/content/drive')"
      ],
      "execution_count": null,
      "outputs": [
        {
          "output_type": "stream",
          "name": "stdout",
          "text": [
            "Mounted at /content/drive\n"
          ]
        }
      ]
    },
    {
      "cell_type": "code",
      "metadata": {
        "colab": {
          "base_uri": "https://localhost:8080/",
          "height": 494
        },
        "id": "MXzFOXLnspJY",
        "outputId": "5bacb3c8-51c1-4392-f325-8c065e06470c"
      },
      "source": [
        "!wget -nc https://raw.githubusercontent.com/brpy/colab-pdf/master/colab_pdf.py\n",
        "from colab_pdf import colab_pdf\n",
        "colab_pdf('MATHDNN_1_5.ipynb')"
      ],
      "execution_count": null,
      "outputs": [
        {
          "output_type": "stream",
          "name": "stdout",
          "text": [
            "--2021-09-09 13:16:07--  https://raw.githubusercontent.com/brpy/colab-pdf/master/colab_pdf.py\n",
            "Resolving raw.githubusercontent.com (raw.githubusercontent.com)... 185.199.108.133, 185.199.109.133, 185.199.110.133, ...\n",
            "Connecting to raw.githubusercontent.com (raw.githubusercontent.com)|185.199.108.133|:443... connected.\n",
            "HTTP request sent, awaiting response... 200 OK\n",
            "Length: 1864 (1.8K) [text/plain]\n",
            "Saving to: ‘colab_pdf.py’\n",
            "\n",
            "colab_pdf.py        100%[===================>]   1.82K  --.-KB/s    in 0s      \n",
            "\n",
            "2021-09-09 13:16:07 (23.0 MB/s) - ‘colab_pdf.py’ saved [1864/1864]\n",
            "\n",
            "\n",
            "WARNING: apt does not have a stable CLI interface. Use with caution in scripts.\n",
            "\n",
            "\n",
            "WARNING: apt does not have a stable CLI interface. Use with caution in scripts.\n",
            "\n",
            "Extracting templates from packages: 100%\n",
            "[NbConvertApp] Converting notebook /content/drive/MyDrive/Colab Notebooks/MATHDNN_1_5.ipynb to pdf\n",
            "[NbConvertApp] Writing 29600 bytes to ./notebook.tex\n",
            "[NbConvertApp] Building PDF\n",
            "[NbConvertApp] Running xelatex 3 times: [u'xelatex', u'./notebook.tex', '-quiet']\n",
            "[NbConvertApp] Running bibtex 1 time: [u'bibtex', u'./notebook']\n",
            "[NbConvertApp] WARNING | bibtex had problems, most likely because there were no citations\n",
            "[NbConvertApp] PDF successfully created\n",
            "[NbConvertApp] Writing 28306 bytes to /content/drive/My Drive/MATHDNN_1_5.pdf\n"
          ]
        },
        {
          "output_type": "display_data",
          "data": {
            "application/javascript": [
              "\n",
              "    async function download(id, filename, size) {\n",
              "      if (!google.colab.kernel.accessAllowed) {\n",
              "        return;\n",
              "      }\n",
              "      const div = document.createElement('div');\n",
              "      const label = document.createElement('label');\n",
              "      label.textContent = `Downloading \"${filename}\": `;\n",
              "      div.appendChild(label);\n",
              "      const progress = document.createElement('progress');\n",
              "      progress.max = size;\n",
              "      div.appendChild(progress);\n",
              "      document.body.appendChild(div);\n",
              "\n",
              "      const buffers = [];\n",
              "      let downloaded = 0;\n",
              "\n",
              "      const channel = await google.colab.kernel.comms.open(id);\n",
              "      // Send a message to notify the kernel that we're ready.\n",
              "      channel.send({})\n",
              "\n",
              "      for await (const message of channel.messages) {\n",
              "        // Send a message to notify the kernel that we're ready.\n",
              "        channel.send({})\n",
              "        if (message.buffers) {\n",
              "          for (const buffer of message.buffers) {\n",
              "            buffers.push(buffer);\n",
              "            downloaded += buffer.byteLength;\n",
              "            progress.value = downloaded;\n",
              "          }\n",
              "        }\n",
              "      }\n",
              "      const blob = new Blob(buffers, {type: 'application/binary'});\n",
              "      const a = document.createElement('a');\n",
              "      a.href = window.URL.createObjectURL(blob);\n",
              "      a.download = filename;\n",
              "      div.appendChild(a);\n",
              "      a.click();\n",
              "      div.remove();\n",
              "    }\n",
              "  "
            ],
            "text/plain": [
              "<IPython.core.display.Javascript object>"
            ]
          },
          "metadata": {}
        },
        {
          "output_type": "display_data",
          "data": {
            "application/javascript": [
              "download(\"download_5104642e-a086-43e1-b1f0-0ebbbffda638\", \"MATHDNN_1_5.pdf\", 28306)"
            ],
            "text/plain": [
              "<IPython.core.display.Javascript object>"
            ]
          },
          "metadata": {}
        },
        {
          "output_type": "execute_result",
          "data": {
            "application/vnd.google.colaboratory.intrinsic+json": {
              "type": "string"
            },
            "text/plain": [
              "'File ready to be Downloaded and Saved to Drive'"
            ]
          },
          "metadata": {},
          "execution_count": 8
        }
      ]
    }
  ]
}